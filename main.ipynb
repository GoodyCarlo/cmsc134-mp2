{
 "cells": [
  {
   "cell_type": "code",
   "execution_count": 7,
   "metadata": {},
   "outputs": [],
   "source": [
    "#import libaries\n",
    "\n",
    "from Crypto.Cipher import PKCS1_OAEP\n",
    "\n",
    "from Crypto.PublicKey import RSA"
   ]
  },
  {
   "cell_type": "code",
   "execution_count": 12,
   "metadata": {},
   "outputs": [],
   "source": [
    "#generate and export public and private key\n",
    "mykey = RSA.generate(3072)\n",
    "\n",
    "pwd = b'password'\n",
    "\n",
    "with open(\"sk.pem\", \"wb\") as f:\n",
    "\n",
    "    data = mykey.export_key(passphrase=pwd,\n",
    "                            pkcs=8,\n",
    "                            protection='PBKDF2WithHMAC-SHA512AndAES256-CBC',\n",
    "                            prot_params={'iteration_count':131072})\n",
    "\n",
    "    f.write(data)\n",
    "\n",
    "f.close()\n",
    "\n",
    "\n",
    "with open(\"pk.pem\", \"wb\") as f:\n",
    "\n",
    "    data = mykey.public_key().export_key()\n",
    "\n",
    "    f.write(data)\n",
    "\n",
    "f.close()"
   ]
  },
  {
   "cell_type": "code",
   "execution_count": 11,
   "metadata": {},
   "outputs": [],
   "source": [
    "#importing already generated key\n",
    "\n",
    "pwd = b'password'\n",
    "\n",
    "with open(\"sk.pem\", \"rb\") as f:\n",
    "\n",
    "    data = f.read()\n",
    "\n",
    "    mykey = RSA.import_key(data, pwd)"
   ]
  },
  {
   "cell_type": "code",
   "execution_count": 1,
   "metadata": {},
   "outputs": [
    {
     "ename": "NameError",
     "evalue": "name 'RSA' is not defined",
     "output_type": "error",
     "traceback": [
      "\u001b[0;31m---------------------------------------------------------------------------\u001b[0m",
      "\u001b[0;31mNameError\u001b[0m                                 Traceback (most recent call last)",
      "Cell \u001b[0;32mIn[1], line 4\u001b[0m\n\u001b[1;32m      1\u001b[0m \u001b[38;5;66;03m#creating and encrypting message\u001b[39;00m\n\u001b[1;32m      2\u001b[0m message \u001b[38;5;241m=\u001b[39m \u001b[38;5;124mb\u001b[39m\u001b[38;5;124m'\u001b[39m\u001b[38;5;124mYou can attack now!\u001b[39m\u001b[38;5;124m'\u001b[39m\n\u001b[0;32m----> 4\u001b[0m key \u001b[38;5;241m=\u001b[39m \u001b[43mRSA\u001b[49m\u001b[38;5;241m.\u001b[39mimportKey(\u001b[38;5;28mopen\u001b[39m(\u001b[38;5;124m'\u001b[39m\u001b[38;5;124mpk.pem\u001b[39m\u001b[38;5;124m'\u001b[39m)\u001b[38;5;241m.\u001b[39mread())\n\u001b[1;32m      6\u001b[0m cipher \u001b[38;5;241m=\u001b[39m PKCS1_OAEP\u001b[38;5;241m.\u001b[39mnew(key)\n\u001b[1;32m      8\u001b[0m ciphertext \u001b[38;5;241m=\u001b[39m cipher\u001b[38;5;241m.\u001b[39mencrypt(message)\n",
      "\u001b[0;31mNameError\u001b[0m: name 'RSA' is not defined"
     ]
    }
   ],
   "source": [
    "#creating and encrypting message\n",
    "message = b'You can attack now!'\n",
    "\n",
    "key = RSA.importKey(open('pk.pem').read())\n",
    "\n",
    "cipher = PKCS1_OAEP.new(key)\n",
    "\n",
    "ciphertext = cipher.encrypt(message)"
   ]
  },
  {
   "cell_type": "code",
   "execution_count": 35,
   "metadata": {},
   "outputs": [],
   "source": [
    "#import libaries\n",
    "\n",
    "from Crypto.Cipher import PKCS1_OAEP\n",
    "\n",
    "from Crypto.PublicKey import RSA\n",
    "\n",
    "import base64\n",
    "\n",
    "import json\n",
    "#creating and encrypting message\n",
    "message = b'You can attack now!'\n",
    "\n",
    "key = RSA.importKey(open('pk.pem').read())\n",
    "\n",
    "cipher = PKCS1_OAEP.new(key)\n",
    "\n",
    "ciphertext = cipher.encrypt(message)\n",
    "\n",
    "msg = {\n",
    "    \"ciphertext\": str(base64.b64encode(ciphertext),'utf-8')\n",
    "}\n",
    "\n",
    "with open(\"msg.json\",\"w\") as f:\n",
    "    f.write(json.dumps(msg,indent=4))\n",
    "\n",
    "f.close()"
   ]
  },
  {
   "cell_type": "code",
   "execution_count": 30,
   "metadata": {},
   "outputs": [],
   "source": [
    "ciphertext = base64.b64decode(msg[\"ciphertext\"])\n",
    "\n"
   ]
  },
  {
   "cell_type": "code",
   "execution_count": 31,
   "metadata": {},
   "outputs": [
    {
     "name": "stdout",
     "output_type": "stream",
     "text": [
      "b'You can attack now!'\n"
     ]
    }
   ],
   "source": [
    "key = RSA.importKey(open('sk.pem').read(),\n",
    "                    passphrase=b'password')\n",
    "\n",
    "cipher = PKCS1_OAEP.new(key)\n",
    "\n",
    "message = cipher.decrypt(ciphertext)\n",
    "\n",
    "print(message)"
   ]
  }
 ],
 "metadata": {
  "kernelspec": {
   "display_name": "cmsc134mp2",
   "language": "python",
   "name": "python3"
  },
  "language_info": {
   "codemirror_mode": {
    "name": "ipython",
    "version": 3
   },
   "file_extension": ".py",
   "mimetype": "text/x-python",
   "name": "python",
   "nbconvert_exporter": "python",
   "pygments_lexer": "ipython3",
   "version": "3.11.6"
  }
 },
 "nbformat": 4,
 "nbformat_minor": 2
}
